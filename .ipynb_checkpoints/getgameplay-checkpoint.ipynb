{
 "cells": [
  {
   "cell_type": "code",
   "execution_count": 3,
   "id": "together-departure",
   "metadata": {},
   "outputs": [],
   "source": [
    "import requests\n",
    "import mwparserfromhell"
   ]
  },
  {
   "cell_type": "code",
   "execution_count": 10,
   "id": "moving-product",
   "metadata": {},
   "outputs": [],
   "source": [
    "def getGameplay(game):\n",
    "    \n",
    "    # Get page based on serch\n",
    "    session = requests.Session()\n",
    "\n",
    "    url = \"https://en.wikipedia.org/w/api.php\"\n",
    "\n",
    "    search = game + \" video game\"\n",
    "\n",
    "    params = {\n",
    "        \"action\": \"query\",\n",
    "        \"format\": \"json\",\n",
    "        \"list\": \"search\",\n",
    "        \"srsearch\": search\n",
    "    }\n",
    "\n",
    "    request = session.get(url=url, params=params)\n",
    "    data = request.json()\n",
    "\n",
    "    page = data['query']['search'][0]['title']\n",
    "    \n",
    "    # Get gameplay section\n",
    "    params = {\n",
    "        \"action\": \"parse\",\n",
    "        \"format\": \"json\",\n",
    "        \"page\": page,\n",
    "        \"prop\": \"sections\"\n",
    "    }\n",
    "\n",
    "    request = session.get(url=url, params=params)\n",
    "    data = request.json()\n",
    "\n",
    "    index = False\n",
    "\n",
    "    for section in data['parse']['sections']:\n",
    "        if section['line'] == 'Gameplay':\n",
    "            index = section['index']\n",
    "            break\n",
    "            \n",
    "    # Get section wikitext\n",
    "    params = {\n",
    "        \"action\": \"parse\",\n",
    "        \"format\": \"json\",\n",
    "        \"page\": page,\n",
    "        \"section\": index,\n",
    "        \"prop\": \"wikitext\"\n",
    "    }\n",
    "\n",
    "    request = session.get(url=url, params=params)\n",
    "    data = request.json()\n",
    "\n",
    "    wikicode = data['parse']['wikitext']['*']\n",
    "    \n",
    "    # Parse wikicode\n",
    "    parsed_wikicode = mwparserfromhell.parse(wikicode).strip_code()\n",
    "    \n",
    "    return parsed_wikicode"
   ]
  },
  {
   "cell_type": "code",
   "execution_count": 12,
   "id": "secret-links",
   "metadata": {},
   "outputs": [
    {
     "data": {
      "text/plain": [
       "'Gameplay\\n\\nThe Elder Scrolls V: Skyrim is an action role-playing game, playable from either a first or third-person perspective. The player may freely roam over the land of Skyrim which is an open world environment consisting of wilderness expanses, dungeons, caves, cities, towns, fortresses, and villages. Players may navigate the game world more quickly by riding horses, paying for a ride from a city\\'s stable or by utilizing a fast-travel system which allows them to warp to previously discovered locations. The game\\'s main quest can be completed or ignored at the player\\'s preference after the first stage of the quest is finished. However, some quests rely on the main storyline being at least partially completed.\\n\\nNon-player characters (NPCs) populate the world and can be interacted with in a number of ways: the player may engage them in conversation, marry certain NPCs (irrespective of gender), kill them or engage them in a nonlethal \"brawl\". As in previous The Elder Scrolls games, killing certain NPCs can make some quests or items unobtainable. Some NPCs cannot be killed due to their importance in later storylines. If witnessed, crimes like murder and theft accrue the player a bounty which is tracked independently in each of Skyrim\\'s nine holds. Should the player be stopped by a guard, they may wipe their bounty with gold or jail time or may resist arrest which will trigger an aggressive pursuit. It is also possible to bribe a guard, or convince him to forget the crime, if it is a minor offense. NPCs may offer the player additional side-quests and some side-quests have parameters adjusted based on nearby dungeons which the player has yet to explore. Some NPCs who are befriended or hired by the player may act as companions who will accompany the player and aid them in combat. The player may choose to join factions which are organized groups of NPCs — for example, the Dark Brotherhood, a band of assassins. Each of the factions has an associated quest path to progress through. Each city and town in the game world has jobs that the player can engage in, such as farming.\\n\\nthumb|250px|left|The player\\'s character engages in combat with monsters while exploring a dungeon. The player may dual-wield weapons and magic at the same time in order to be more effective against enemies.\\nPlayers have the option to develop their character. At the beginning of the game, players create their character by selecting their sex and choosing between one of several races including humans, orcs, elves, and anthropomorphic cat or lizard-like creatures and then customizing their character\\'s appearance. Over the course of the game, players improve their character\\'s skills which are numerical representations of their ability in certain areas. There are eighteen skills divided evenly among the three schools of combat, magic, and stealth. When players have trained skills enough to meet the required experience, their character levels up. Each time their character levels, the players may choose to select a skill-specific ability called a perk or store perk points for later use. Earlier entries in The Elder Scrolls series used a character class system to determine which skills would contribute to the character\\'s leveling but Skyrim allows players to discover preferred skills as they play the game and it rewards them with more experience when a frequently used skill is leveled. A head-up display (HUD) appears when any of the player\\'s three main attributes (health, magicka, and stamina) are being depleted. Attributes regenerate over time, although this process can be accelerated by using potions or regenerative spells. Health is depleted primarily when the player takes damage and the loss of all health results in death. Magicka is depleted by the use of spells, certain poisons and by being struck by lightning-based attacks. Stamina determines the player\\'s effectiveness in combat and is depleted by sprinting, performing heavy \"power attacks\" and being struck by frost-based attacks. Items in the player\\'s inventory can be viewed three-dimensionally, which helps solving puzzles in dungeons.\\n\\nThe player\\'s effectiveness in combat relies on the use of weapons and armor (which may be bought, found, stolen and/or forged) and on the use of magic spells which may be bought, stolen and/or unlocked by finding spell tomes. Weapons and magic are assigned to each hand allowing for dual-wielding and can be swapped out through a quick-access menu of favorite items. Some weapons and spells require both hands. Shields can be used to fend off enemy attacks and reduce incurred damage or offensively through bashing attacks. Blunt, bladed, and hacking weapons can be used in close combat and each have specific advantages and roles. For example, the player can perform power attacks with each weapon. Spells have several functions such as regenerating the player\\'s health, attacking enemies, confusing enemies, temporarily raising the dead, casting light or turning iron into silver. Bows are used for long-range combat and for bashing enemies in melee combat. The player can enter sneak mode and pickpocket or deliver powerful sneak attacks to unsuspecting enemies.\\n\\nWhen exploring the game world the player may encounter wildlife. Many creatures in the wilderness are immediately hostile towards the player. However, game animals such as elk and deer will simply run away. Skyrim is the first entry in The Elder Scrolls to include dragons in the game\\'s wilderness. Like other creatures, dragons are generated randomly in the world and will engage in combat with NPCs, creatures and the player. Some dragons may attack cities and towns when in their proximity. The player character can absorb the souls of dragons in order to use powerful spells called \"dragon shouts\" or \"Thu\\'um\". Each shout contains three words in the language spoken by dragons, and the strength of the shout will vary depending on how many words have been spoken. The words to shouts can be learned by visiting \"word walls\" in dungeons or around the wilderness. The words to each shout are unlocked for use by spending the absorbed souls of slain dragons. A regeneration period limits the player\\'s use of shouts in gameplay.'"
      ]
     },
     "execution_count": 12,
     "metadata": {},
     "output_type": "execute_result"
    }
   ],
   "source": [
    "getGameplay('Skyrim')"
   ]
  },
  {
   "cell_type": "code",
   "execution_count": null,
   "id": "global-chinese",
   "metadata": {},
   "outputs": [],
   "source": []
  }
 ],
 "metadata": {
  "kernelspec": {
   "display_name": "Python 3",
   "language": "python",
   "name": "python3"
  },
  "language_info": {
   "codemirror_mode": {
    "name": "ipython",
    "version": 3
   },
   "file_extension": ".py",
   "mimetype": "text/x-python",
   "name": "python",
   "nbconvert_exporter": "python",
   "pygments_lexer": "ipython3",
   "version": "3.9.2"
  }
 },
 "nbformat": 4,
 "nbformat_minor": 5
}
