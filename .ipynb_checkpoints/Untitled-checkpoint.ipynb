{
 "cells": [
  {
   "cell_type": "code",
   "execution_count": 190,
   "id": "according-lodge",
   "metadata": {},
   "outputs": [],
   "source": [
    "f = open(\"top5k.txt\", encoding='utf-8')\n",
    "text = f.read()"
   ]
  },
  {
   "cell_type": "code",
   "execution_count": 191,
   "id": "agricultural-cleveland",
   "metadata": {},
   "outputs": [],
   "source": [
    "parses = text.split('\\t<https://steamdb.info/app/')[1:]\n",
    "titles = []\n",
    "\n",
    "for parse in parses:\n",
    "    titles.append(parse.split('\\t')[1].split('\\n')[0])"
   ]
  },
  {
   "cell_type": "code",
   "execution_count": 192,
   "id": "exposed-cherry",
   "metadata": {},
   "outputs": [],
   "source": [
    "import pandas as pd\n",
    "\n",
    "games_df = pd.DataFrame(titles, columns=['title'])"
   ]
  },
  {
   "cell_type": "code",
   "execution_count": 193,
   "id": "obvious-venture",
   "metadata": {},
   "outputs": [],
   "source": [
    "games_sub = games_df.sample(100)"
   ]
  },
  {
   "cell_type": "code",
   "execution_count": 194,
   "id": "innocent-champion",
   "metadata": {},
   "outputs": [],
   "source": [
    "import wikipedia as wiki\n",
    "import datetime\n",
    "wiki.set_rate_limiting(True, min_wait=datetime.timedelta(0, 0, 50000))"
   ]
  },
  {
   "cell_type": "code",
   "execution_count": 195,
   "id": "dietary-median",
   "metadata": {},
   "outputs": [],
   "source": [
    "def getInfo(game):   \n",
    "    try:\n",
    "        game = wiki.search(game + ' video game')[0]\n",
    "        page = wiki.WikipediaPage(game)\n",
    "        return [page, page.title, page.section('Gameplay')]\n",
    "    except:\n",
    "        return [False, False, False]"
   ]
  },
  {
   "cell_type": "code",
   "execution_count": null,
   "id": "pretty-entrepreneur",
   "metadata": {},
   "outputs": [
    {
     "name": "stderr",
     "output_type": "stream",
     "text": [
      "c:\\users\\chris\\appdata\\local\\programs\\python\\python39\\lib\\site-packages\\wikipedia\\wikipedia.py:389: GuessedAtParserWarning: No parser was explicitly specified, so I'm using the best available HTML parser for this system (\"lxml\"). This usually isn't a problem, but if you run this code on another system, or in a different virtual environment, it may use a different parser and behave differently.\n",
      "\n",
      "The code that caused this warning is on line 389 of the file c:\\users\\chris\\appdata\\local\\programs\\python\\python39\\lib\\site-packages\\wikipedia\\wikipedia.py. To get rid of this warning, pass the additional argument 'features=\"lxml\"' to the BeautifulSoup constructor.\n",
      "\n",
      "  lis = BeautifulSoup(html).find_all('li')\n"
     ]
    }
   ],
   "source": [
    "%%time\n",
    "games_sub['info'] = games_sub['title'].apply(lambda x: getInfo(x))"
   ]
  },
  {
   "cell_type": "code",
   "execution_count": 177,
   "id": "aggregate-metabolism",
   "metadata": {},
   "outputs": [
    {
     "data": {
      "text/html": [
       "<div>\n",
       "<style scoped>\n",
       "    .dataframe tbody tr th:only-of-type {\n",
       "        vertical-align: middle;\n",
       "    }\n",
       "\n",
       "    .dataframe tbody tr th {\n",
       "        vertical-align: top;\n",
       "    }\n",
       "\n",
       "    .dataframe thead th {\n",
       "        text-align: right;\n",
       "    }\n",
       "</style>\n",
       "<table border=\"1\" class=\"dataframe\">\n",
       "  <thead>\n",
       "    <tr style=\"text-align: right;\">\n",
       "      <th></th>\n",
       "      <th>title</th>\n",
       "      <th>info</th>\n",
       "    </tr>\n",
       "  </thead>\n",
       "  <tbody>\n",
       "    <tr>\n",
       "      <th>855</th>\n",
       "      <td>Vampire: The Masquerade -</td>\n",
       "      <td>[&lt;WikipediaPage 'Vampire: The Masquerade – Blo...</td>\n",
       "    </tr>\n",
       "    <tr>\n",
       "      <th>88</th>\n",
       "      <td>Total War: WARHAMMER II</td>\n",
       "      <td>[&lt;WikipediaPage 'Total War: Warhammer II'&gt;, To...</td>\n",
       "    </tr>\n",
       "    <tr>\n",
       "      <th>538</th>\n",
       "      <td>Sleeping Dogs™</td>\n",
       "      <td>[&lt;WikipediaPage 'Sleeping Dogs (video game)'&gt;,...</td>\n",
       "    </tr>\n",
       "    <tr>\n",
       "      <th>1897</th>\n",
       "      <td>Red Faction: Armageddon</td>\n",
       "      <td>[&lt;WikipediaPage 'Red Faction: Armageddon'&gt;, Re...</td>\n",
       "    </tr>\n",
       "    <tr>\n",
       "      <th>848</th>\n",
       "      <td>FlatOut 2</td>\n",
       "      <td>[&lt;WikipediaPage 'FlatOut (video game)'&gt;, FlatO...</td>\n",
       "    </tr>\n",
       "    <tr>\n",
       "      <th>3170</th>\n",
       "      <td>Omerta - City of Gangsters</td>\n",
       "      <td>[&lt;WikipediaPage 'Omerta – City of Gangsters'&gt;,...</td>\n",
       "    </tr>\n",
       "    <tr>\n",
       "      <th>460</th>\n",
       "      <td>Forza Horizon 4</td>\n",
       "      <td>[&lt;WikipediaPage 'Forza Horizon 4'&gt;, Forza Hori...</td>\n",
       "    </tr>\n",
       "    <tr>\n",
       "      <th>4566</th>\n",
       "      <td>TroubleDays</td>\n",
       "      <td>[&lt;WikipediaPage 'Video game'&gt;, Video game, None]</td>\n",
       "    </tr>\n",
       "    <tr>\n",
       "      <th>4161</th>\n",
       "      <td>Draw a Stickman: EPIC</td>\n",
       "      <td>[&lt;WikipediaPage 'Hitcents'&gt;, Hitcents, None]</td>\n",
       "    </tr>\n",
       "    <tr>\n",
       "      <th>1270</th>\n",
       "      <td>Blood Bowl 2</td>\n",
       "      <td>[&lt;WikipediaPage 'Blood Bowl (2009 video game)'...</td>\n",
       "    </tr>\n",
       "  </tbody>\n",
       "</table>\n",
       "</div>"
      ],
      "text/plain": [
       "                           title  \\\n",
       "855    Vampire: The Masquerade -   \n",
       "88       Total War: WARHAMMER II   \n",
       "538               Sleeping Dogs™   \n",
       "1897     Red Faction: Armageddon   \n",
       "848                    FlatOut 2   \n",
       "3170  Omerta - City of Gangsters   \n",
       "460              Forza Horizon 4   \n",
       "4566                 TroubleDays   \n",
       "4161       Draw a Stickman: EPIC   \n",
       "1270                Blood Bowl 2   \n",
       "\n",
       "                                                   info  \n",
       "855   [<WikipediaPage 'Vampire: The Masquerade – Blo...  \n",
       "88    [<WikipediaPage 'Total War: Warhammer II'>, To...  \n",
       "538   [<WikipediaPage 'Sleeping Dogs (video game)'>,...  \n",
       "1897  [<WikipediaPage 'Red Faction: Armageddon'>, Re...  \n",
       "848   [<WikipediaPage 'FlatOut (video game)'>, FlatO...  \n",
       "3170  [<WikipediaPage 'Omerta – City of Gangsters'>,...  \n",
       "460   [<WikipediaPage 'Forza Horizon 4'>, Forza Hori...  \n",
       "4566   [<WikipediaPage 'Video game'>, Video game, None]  \n",
       "4161       [<WikipediaPage 'Hitcents'>, Hitcents, None]  \n",
       "1270  [<WikipediaPage 'Blood Bowl (2009 video game)'...  "
      ]
     },
     "execution_count": 177,
     "metadata": {},
     "output_type": "execute_result"
    }
   ],
   "source": [
    "games_sub"
   ]
  },
  {
   "cell_type": "code",
   "execution_count": 162,
   "id": "behind-shark",
   "metadata": {},
   "outputs": [
    {
     "ename": "PageError",
     "evalue": "Page id \"Cuphead video game\" does not match any pages. Try another id!",
     "output_type": "error",
     "traceback": [
      "\u001b[1;31m---------------------------------------------------------------------------\u001b[0m",
      "\u001b[1;31mPageError\u001b[0m                                 Traceback (most recent call last)",
      "\u001b[1;32m<ipython-input-162-55e8add91c75>\u001b[0m in \u001b[0;36m<module>\u001b[1;34m\u001b[0m\n\u001b[1;32m----> 1\u001b[1;33m \u001b[0mpage\u001b[0m \u001b[1;33m=\u001b[0m \u001b[0mwiki\u001b[0m\u001b[1;33m.\u001b[0m\u001b[0mWikipediaPage\u001b[0m\u001b[1;33m(\u001b[0m\u001b[1;34m'Cuphead video game'\u001b[0m\u001b[1;33m)\u001b[0m\u001b[1;33m\u001b[0m\u001b[1;33m\u001b[0m\u001b[0m\n\u001b[0m",
      "\u001b[1;32mc:\\users\\chris\\appdata\\local\\programs\\python\\python39\\lib\\site-packages\\wikipedia\\wikipedia.py\u001b[0m in \u001b[0;36m__init__\u001b[1;34m(self, title, pageid, redirect, preload, original_title)\u001b[0m\n\u001b[0;32m    297\u001b[0m       \u001b[1;32mraise\u001b[0m \u001b[0mValueError\u001b[0m\u001b[1;33m(\u001b[0m\u001b[1;34m\"Either a title or a pageid must be specified\"\u001b[0m\u001b[1;33m)\u001b[0m\u001b[1;33m\u001b[0m\u001b[1;33m\u001b[0m\u001b[0m\n\u001b[0;32m    298\u001b[0m \u001b[1;33m\u001b[0m\u001b[0m\n\u001b[1;32m--> 299\u001b[1;33m     \u001b[0mself\u001b[0m\u001b[1;33m.\u001b[0m\u001b[0m__load\u001b[0m\u001b[1;33m(\u001b[0m\u001b[0mredirect\u001b[0m\u001b[1;33m=\u001b[0m\u001b[0mredirect\u001b[0m\u001b[1;33m,\u001b[0m \u001b[0mpreload\u001b[0m\u001b[1;33m=\u001b[0m\u001b[0mpreload\u001b[0m\u001b[1;33m)\u001b[0m\u001b[1;33m\u001b[0m\u001b[1;33m\u001b[0m\u001b[0m\n\u001b[0m\u001b[0;32m    300\u001b[0m \u001b[1;33m\u001b[0m\u001b[0m\n\u001b[0;32m    301\u001b[0m     \u001b[1;32mif\u001b[0m \u001b[0mpreload\u001b[0m\u001b[1;33m:\u001b[0m\u001b[1;33m\u001b[0m\u001b[1;33m\u001b[0m\u001b[0m\n",
      "\u001b[1;32mc:\\users\\chris\\appdata\\local\\programs\\python\\python39\\lib\\site-packages\\wikipedia\\wikipedia.py\u001b[0m in \u001b[0;36m__load\u001b[1;34m(self, redirect, preload)\u001b[0m\n\u001b[0;32m    343\u001b[0m     \u001b[1;32mif\u001b[0m \u001b[1;34m'missing'\u001b[0m \u001b[1;32min\u001b[0m \u001b[0mpage\u001b[0m\u001b[1;33m:\u001b[0m\u001b[1;33m\u001b[0m\u001b[1;33m\u001b[0m\u001b[0m\n\u001b[0;32m    344\u001b[0m       \u001b[1;32mif\u001b[0m \u001b[0mhasattr\u001b[0m\u001b[1;33m(\u001b[0m\u001b[0mself\u001b[0m\u001b[1;33m,\u001b[0m \u001b[1;34m'title'\u001b[0m\u001b[1;33m)\u001b[0m\u001b[1;33m:\u001b[0m\u001b[1;33m\u001b[0m\u001b[1;33m\u001b[0m\u001b[0m\n\u001b[1;32m--> 345\u001b[1;33m         \u001b[1;32mraise\u001b[0m \u001b[0mPageError\u001b[0m\u001b[1;33m(\u001b[0m\u001b[0mself\u001b[0m\u001b[1;33m.\u001b[0m\u001b[0mtitle\u001b[0m\u001b[1;33m)\u001b[0m\u001b[1;33m\u001b[0m\u001b[1;33m\u001b[0m\u001b[0m\n\u001b[0m\u001b[0;32m    346\u001b[0m       \u001b[1;32melse\u001b[0m\u001b[1;33m:\u001b[0m\u001b[1;33m\u001b[0m\u001b[1;33m\u001b[0m\u001b[0m\n\u001b[0;32m    347\u001b[0m         \u001b[1;32mraise\u001b[0m \u001b[0mPageError\u001b[0m\u001b[1;33m(\u001b[0m\u001b[0mpageid\u001b[0m\u001b[1;33m=\u001b[0m\u001b[0mself\u001b[0m\u001b[1;33m.\u001b[0m\u001b[0mpageid\u001b[0m\u001b[1;33m)\u001b[0m\u001b[1;33m\u001b[0m\u001b[1;33m\u001b[0m\u001b[0m\n",
      "\u001b[1;31mPageError\u001b[0m: Page id \"Cuphead video game\" does not match any pages. Try another id!"
     ]
    }
   ],
   "source": [
    "page = wiki.WikipediaPage('Cuphead video game')"
   ]
  },
  {
   "cell_type": "code",
   "execution_count": 163,
   "id": "virtual-housing",
   "metadata": {},
   "outputs": [
    {
     "data": {
      "text/plain": [
       "['Cuphead',\n",
       " 'Cuphead (character)',\n",
       " 'Indie game',\n",
       " 'List of video games notable for speedrunning',\n",
       " 'The Game Awards 2017',\n",
       " 'Boss (video games)',\n",
       " 'List of best-selling Xbox One video games',\n",
       " 'List of television series based on video games',\n",
       " 'Videogamedunkey',\n",
       " 'List of animated series based on video games']"
      ]
     },
     "execution_count": 163,
     "metadata": {},
     "output_type": "execute_result"
    }
   ],
   "source": [
    "wiki.search('Cuphead video game')"
   ]
  },
  {
   "cell_type": "code",
   "execution_count": null,
   "id": "turned-novelty",
   "metadata": {},
   "outputs": [],
   "source": []
  }
 ],
 "metadata": {
  "kernelspec": {
   "display_name": "Python 3",
   "language": "python",
   "name": "python3"
  },
  "language_info": {
   "codemirror_mode": {
    "name": "ipython",
    "version": 3
   },
   "file_extension": ".py",
   "mimetype": "text/x-python",
   "name": "python",
   "nbconvert_exporter": "python",
   "pygments_lexer": "ipython3",
   "version": "3.9.2"
  }
 },
 "nbformat": 4,
 "nbformat_minor": 5
}
