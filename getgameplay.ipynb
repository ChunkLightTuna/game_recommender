{
 "cells": [
  {
   "cell_type": "code",
   "execution_count": 2,
   "id": "painful-chain",
   "metadata": {},
   "outputs": [],
   "source": [
    "import requests\n",
    "import mwparserfromhell\n",
    "import pandas as pd"
   ]
  },
  {
   "cell_type": "code",
   "execution_count": 77,
   "id": "soviet-carroll",
   "metadata": {},
   "outputs": [],
   "source": [
    "def getGameplay(game):\n",
    "    try:\n",
    "        # Get page based on serch\n",
    "        session = requests.Session()\n",
    "\n",
    "        url = \"https://en.wikipedia.org/w/api.php\"\n",
    "\n",
    "        search = game + \" video game\"\n",
    "\n",
    "        params = {\n",
    "            \"action\": \"query\",\n",
    "            \"format\": \"json\",\n",
    "            \"list\": \"search\",\n",
    "            \"srsearch\": search\n",
    "        }\n",
    "\n",
    "        request = session.get(url=url, params=params)\n",
    "        data = request.json()\n",
    "\n",
    "        page = data['query']['search'][0]['title']\n",
    "\n",
    "        # Get gameplay section\n",
    "        params = {\n",
    "            \"action\": \"parse\",\n",
    "            \"format\": \"json\",\n",
    "            \"page\": page,\n",
    "            \"prop\": \"sections\"\n",
    "        }\n",
    "\n",
    "        request = session.get(url=url, params=params)\n",
    "        data = request.json()\n",
    "\n",
    "        index = False\n",
    "\n",
    "        for section in data['parse']['sections']:\n",
    "            if section['line'] == 'Gameplay':\n",
    "                index = section['index']\n",
    "                break\n",
    "\n",
    "        if index==False:\n",
    "            return False\n",
    "\n",
    "        # Get section wikitext\n",
    "        params = {\n",
    "            \"action\": \"parse\",\n",
    "            \"format\": \"json\",\n",
    "            \"page\": page,\n",
    "            \"section\": index,\n",
    "            \"prop\": \"wikitext\"\n",
    "        }\n",
    "\n",
    "        request = session.get(url=url, params=params)\n",
    "        data = request.json()\n",
    "\n",
    "\n",
    "        wikicode = data['parse']['wikitext']['*']\n",
    "\n",
    "        # Parse wikicode\n",
    "        parsed_wikicode = mwparserfromhell.parse(wikicode).strip_code()\n",
    "\n",
    "        return [page, parsed_wikicode]\n",
    "    except:\n",
    "        return [False, False]\n",
    "        print(\"Error in getGameplay\")"
   ]
  },
  {
   "cell_type": "code",
   "execution_count": 78,
   "id": "typical-trial",
   "metadata": {},
   "outputs": [
    {
     "name": "stdout",
     "output_type": "stream",
     "text": [
      "page_0.pkl saved.\n",
      "page_1.pkl saved.\n",
      "page_2.pkl saved.\n",
      "page_3.pkl saved.\n",
      "page_4.pkl saved.\n",
      "page_5.pkl saved.\n",
      "page_6.pkl saved.\n",
      "page_7.pkl saved.\n",
      "page_8.pkl saved.\n",
      "page_9.pkl saved.\n",
      "page_10.pkl saved.\n",
      "page_11.pkl saved.\n",
      "page_12.pkl saved.\n",
      "page_13.pkl saved.\n",
      "page_14.pkl saved.\n",
      "page_15.pkl saved.\n",
      "page_16.pkl saved.\n",
      "page_17.pkl saved.\n",
      "page_18.pkl saved.\n",
      "page_19.pkl saved.\n",
      "page_20.pkl saved.\n",
      "page_21.pkl saved.\n",
      "page_22.pkl saved.\n",
      "page_23.pkl saved.\n",
      "page_24.pkl saved.\n",
      "page_25.pkl saved.\n",
      "page_26.pkl saved.\n",
      "page_27.pkl saved.\n",
      "page_28.pkl saved.\n",
      "page_29.pkl saved.\n",
      "page_30.pkl saved.\n",
      "page_31.pkl saved.\n",
      "page_32.pkl saved.\n",
      "page_33.pkl saved.\n",
      "page_34.pkl saved.\n",
      "page_35.pkl saved.\n",
      "page_36.pkl saved.\n",
      "page_37.pkl saved.\n",
      "page_38.pkl saved.\n",
      "page_39.pkl saved.\n",
      "page_40.pkl saved.\n",
      "page_41.pkl saved.\n",
      "page_42.pkl saved.\n",
      "page_43.pkl saved.\n",
      "page_44.pkl saved.\n",
      "Wall time: 6h 27min 10s\n"
     ]
    }
   ],
   "source": [
    "%%time\n",
    "for i in range(45):\n",
    "    page = i\n",
    "    games_df = pd.read_json(\"https://steamspy.com/api.php?request=all&page=\" + str(page)).transpose()\n",
    "    games_df['gameplay'] = games_df['name'].apply((lambda x: getGameplay(x)))\n",
    "    games_df.to_pickle('./gamedata/page_' + str(page) + '.pkl')\n",
    "    print('page_' + str(page) + '.pkl saved.')"
   ]
  },
  {
   "cell_type": "code",
   "execution_count": 3,
   "id": "suspected-brooklyn",
   "metadata": {},
   "outputs": [
    {
     "data": {
      "text/plain": [
       "(15111, 18)"
      ]
     },
     "execution_count": 3,
     "metadata": {},
     "output_type": "execute_result"
    }
   ],
   "source": [
    "gamedata_df = pd.DataFrame()\n",
    "\n",
    "for i in range(45):\n",
    "    df = pd.read_pickle(\"./gamedata/page_\" + str(i) + \".pkl\")\n",
    "    gamedata_df = gamedata_df.append(df)\n",
    "    \n",
    "sorted_df = gamedata_df.sort_values(by=['positive'], ascending=False)\n",
    "sorted_df = sorted_df[sorted_df['gameplay']!= False]\n",
    "sorted_df = sorted_df[sorted_df['positive'] > 10]\n",
    "sorted_df.shape"
   ]
  },
  {
   "cell_type": "code",
   "execution_count": 4,
   "id": "constitutional-flexibility",
   "metadata": {},
   "outputs": [
    {
     "data": {
      "text/plain": [
       "284410                                        [False, False]\n",
       "570150                                        [False, False]\n",
       "1256920    [Doom (1993 video game), Gameplay\\n\\nthumb|rig...\n",
       "1470320                                       [False, False]\n",
       "1215200                                       [False, False]\n",
       "402850     [Lemmings (video game), Gameplay\\nthumb|left|L...\n",
       "680420     [Outriders (video game), Gameplay\\nOutriders i...\n",
       "490300     [Overgrowth (video game),  Gameplay \\nOvergrow...\n",
       "341940     [Hatred (video game),  Gameplay \\nleft|thumb|\"...\n",
       "91810      [Ancients of Ooga, Gameplay\\nAncient of Ooga i...\n",
       "925440                                        [False, False]\n",
       "410710     [System Shock,  Gameplay \\nthumb|left|The play...\n",
       "550990     [Viktor, a Steampunk Adventure, Gameplay\\nThe ...\n",
       "599460     [Final Fantasy (video game), Gameplay\\nFinal F...\n",
       "555180                                        [False, False]\n",
       "111800     [Blocks That Matter, Gameplay\\nthumb|Gameplay ...\n",
       "1305420                                       [False, False]\n",
       "654350     [Mega Man Zero (video game),  Gameplay \\nthumb...\n",
       "595640     [Chibi-Robo! (video game), Gameplay\\nleft|thum...\n",
       "115300     [Call of Duty: Modern Warfare (2019 video game...\n",
       "744400                                        [False, False]\n",
       "1026070                                       [False, False]\n",
       "462100                                        [False, False]\n",
       "552920                                        [False, False]\n",
       "404700                                        [False, False]\n",
       "Name: gameplay, dtype: object"
      ]
     },
     "execution_count": 4,
     "metadata": {},
     "output_type": "execute_result"
    }
   ],
   "source": [
    "sorted_df['gameplay'].sample(25)"
   ]
  },
  {
   "cell_type": "code",
   "execution_count": null,
   "id": "concerned-trinity",
   "metadata": {},
   "outputs": [],
   "source": []
  }
 ],
 "metadata": {
  "kernelspec": {
   "display_name": "Python 3",
   "language": "python",
   "name": "python3"
  },
  "language_info": {
   "codemirror_mode": {
    "name": "ipython",
    "version": 3
   },
   "file_extension": ".py",
   "mimetype": "text/x-python",
   "name": "python",
   "nbconvert_exporter": "python",
   "pygments_lexer": "ipython3",
   "version": "3.9.2"
  }
 },
 "nbformat": 4,
 "nbformat_minor": 5
}
