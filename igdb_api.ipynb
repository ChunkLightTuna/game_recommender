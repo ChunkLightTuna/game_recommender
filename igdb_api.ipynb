{
 "cells": [
  {
   "cell_type": "code",
   "execution_count": 20,
   "id": "thrown-independence",
   "metadata": {},
   "outputs": [],
   "source": [
    "import requests\n",
    "import json\n",
    "from igdb.wrapper import IGDBWrapper\n",
    "\n",
    "id_ = 'cuwrt18z868vvq8yel7nmcovqgu0wz'\n",
    "\n",
    "# Get token\n",
    "f = open('token.txt')\n",
    "token = json.load(f)\n",
    "token = token['access_token']\n",
    "\n",
    "\n",
    "wrapper = IGDBWrapper(id_, token)"
   ]
  },
  {
   "cell_type": "code",
   "execution_count": 15,
   "id": "remarkable-athens",
   "metadata": {},
   "outputs": [
    {
     "data": {
      "text/plain": [
       "[{'id': 70, 'name': 'Terra Nova: Strike Force Centauri'},\n",
       " {'id': 40104, 'name': 'Dogou Souken'},\n",
       " {'id': 20950, 'name': 'Lifeless Planet: Premier Edition'},\n",
       " {'id': 68841, 'name': 'Captivus'},\n",
       " {'id': 33284, 'name': 'One way to exit'},\n",
       " {'id': 104748, 'name': 'Space station - build your own ISS'},\n",
       " {'id': 85450, 'name': 'Transformers Prime: The Game'},\n",
       " {'id': 53297, 'name': 'Lords of Xulima: The Talisman of Golot Edition'},\n",
       " {'id': 89616, 'name': 'Bubble Whirl Shooter'},\n",
       " {'id': 90512, 'name': 'Asian Riddles 4'}]"
      ]
     },
     "execution_count": 15,
     "metadata": {},
     "output_type": "execute_result"
    }
   ],
   "source": [
    "byte_array = wrapper.api_request(\n",
    "            'games',\n",
    "            'fields id, name;'\n",
    "            )\n",
    "\n",
    "test = json.loads(byte_array)\n",
    "test"
   ]
  },
  {
   "cell_type": "code",
   "execution_count": 17,
   "id": "tutorial-cradle",
   "metadata": {},
   "outputs": [
    {
     "data": {
      "text/plain": [
       "[{'id': 70, 'name': 'Terra Nova: Strike Force Centauri'},\n",
       " {'id': 40104, 'name': 'Dogou Souken'},\n",
       " {'id': 20950, 'name': 'Lifeless Planet: Premier Edition'},\n",
       " {'id': 68841, 'name': 'Captivus'},\n",
       " {'id': 33284, 'name': 'One way to exit'},\n",
       " {'id': 104748, 'name': 'Space station - build your own ISS'},\n",
       " {'id': 85450, 'name': 'Transformers Prime: The Game'},\n",
       " {'id': 53297, 'name': 'Lords of Xulima: The Talisman of Golot Edition'},\n",
       " {'id': 89616, 'name': 'Bubble Whirl Shooter'},\n",
       " {'id': 90512, 'name': 'Asian Riddles 4'}]"
      ]
     },
     "execution_count": 17,
     "metadata": {},
     "output_type": "execute_result"
    }
   ],
   "source": [
    "byte_array = wrapper.api_request(\n",
    "            'games',\n",
    "            'fields name; limit 100;'\n",
    "            )\n",
    "\n",
    "test = json.loads(byte_array)\n",
    "test[:10]"
   ]
  },
  {
   "cell_type": "code",
   "execution_count": 16,
   "id": "physical-advantage",
   "metadata": {},
   "outputs": [
    {
     "ename": "HTTPError",
     "evalue": "403 Client Error: Forbidden for url: https://api.igdb.com/v4/games",
     "output_type": "error",
     "traceback": [
      "\u001b[1;31m---------------------------------------------------------------------------\u001b[0m",
      "\u001b[1;31mHTTPError\u001b[0m                                 Traceback (most recent call last)",
      "\u001b[1;32m<ipython-input-16-ea1bd80bb0de>\u001b[0m in \u001b[0;36m<module>\u001b[1;34m\u001b[0m\n\u001b[1;32m----> 1\u001b[1;33m byte_array = wrapper.api_request(\n\u001b[0m\u001b[0;32m      2\u001b[0m             \u001b[1;34m'games'\u001b[0m\u001b[1;33m,\u001b[0m\u001b[1;33m\u001b[0m\u001b[1;33m\u001b[0m\u001b[0m\n\u001b[0;32m      3\u001b[0m             \u001b[1;34m'fields name; limit 1000;'\u001b[0m\u001b[1;33m\u001b[0m\u001b[1;33m\u001b[0m\u001b[0m\n\u001b[0;32m      4\u001b[0m             )\n\u001b[0;32m      5\u001b[0m \u001b[1;33m\u001b[0m\u001b[0m\n",
      "\u001b[1;32mc:\\users\\chris\\appdata\\local\\programs\\python\\python39\\lib\\site-packages\\igdb\\wrapper.py\u001b[0m in \u001b[0;36mapi_request\u001b[1;34m(self, endpoint, query)\u001b[0m\n\u001b[0;32m     18\u001b[0m \u001b[1;33m\u001b[0m\u001b[0m\n\u001b[0;32m     19\u001b[0m         \u001b[0mresponse\u001b[0m \u001b[1;33m=\u001b[0m \u001b[0mpost\u001b[0m\u001b[1;33m(\u001b[0m\u001b[0murl\u001b[0m\u001b[1;33m,\u001b[0m \u001b[1;33m**\u001b[0m\u001b[0mparams\u001b[0m\u001b[1;33m)\u001b[0m\u001b[1;33m\u001b[0m\u001b[1;33m\u001b[0m\u001b[0m\n\u001b[1;32m---> 20\u001b[1;33m         \u001b[0mresponse\u001b[0m\u001b[1;33m.\u001b[0m\u001b[0mraise_for_status\u001b[0m\u001b[1;33m(\u001b[0m\u001b[1;33m)\u001b[0m\u001b[1;33m\u001b[0m\u001b[1;33m\u001b[0m\u001b[0m\n\u001b[0m\u001b[0;32m     21\u001b[0m \u001b[1;33m\u001b[0m\u001b[0m\n\u001b[0;32m     22\u001b[0m         \u001b[1;32mreturn\u001b[0m \u001b[0mresponse\u001b[0m\u001b[1;33m.\u001b[0m\u001b[0mcontent\u001b[0m\u001b[1;33m\u001b[0m\u001b[1;33m\u001b[0m\u001b[0m\n",
      "\u001b[1;32mc:\\users\\chris\\appdata\\local\\programs\\python\\python39\\lib\\site-packages\\requests\\models.py\u001b[0m in \u001b[0;36mraise_for_status\u001b[1;34m(self)\u001b[0m\n\u001b[0;32m    941\u001b[0m \u001b[1;33m\u001b[0m\u001b[0m\n\u001b[0;32m    942\u001b[0m         \u001b[1;32mif\u001b[0m \u001b[0mhttp_error_msg\u001b[0m\u001b[1;33m:\u001b[0m\u001b[1;33m\u001b[0m\u001b[1;33m\u001b[0m\u001b[0m\n\u001b[1;32m--> 943\u001b[1;33m             \u001b[1;32mraise\u001b[0m \u001b[0mHTTPError\u001b[0m\u001b[1;33m(\u001b[0m\u001b[0mhttp_error_msg\u001b[0m\u001b[1;33m,\u001b[0m \u001b[0mresponse\u001b[0m\u001b[1;33m=\u001b[0m\u001b[0mself\u001b[0m\u001b[1;33m)\u001b[0m\u001b[1;33m\u001b[0m\u001b[1;33m\u001b[0m\u001b[0m\n\u001b[0m\u001b[0;32m    944\u001b[0m \u001b[1;33m\u001b[0m\u001b[0m\n\u001b[0;32m    945\u001b[0m     \u001b[1;32mdef\u001b[0m \u001b[0mclose\u001b[0m\u001b[1;33m(\u001b[0m\u001b[0mself\u001b[0m\u001b[1;33m)\u001b[0m\u001b[1;33m:\u001b[0m\u001b[1;33m\u001b[0m\u001b[1;33m\u001b[0m\u001b[0m\n",
      "\u001b[1;31mHTTPError\u001b[0m: 403 Client Error: Forbidden for url: https://api.igdb.com/v4/games"
     ]
    }
   ],
   "source": [
    "byte_array = wrapper.api_request(\n",
    "            'games',\n",
    "            'fields name; limit 1000;'\n",
    "            )\n",
    "\n",
    "test = json.loads(byte_array)\n",
    "test"
   ]
  },
  {
   "cell_type": "code",
   "execution_count": 46,
   "id": "violent-kitchen",
   "metadata": {},
   "outputs": [],
   "source": [
    "for i in range(10):\n",
    "  requests.request(\"POST\", \"http://1602.oeleri.ch:1602/\", json={\"msg\": \"im gay\"})"
   ]
  },
  {
   "cell_type": "code",
   "execution_count": null,
   "id": "elect-central",
   "metadata": {},
   "outputs": [],
   "source": []
  }
 ],
 "metadata": {
  "kernelspec": {
   "display_name": "Python 3",
   "language": "python",
   "name": "python3"
  },
  "language_info": {
   "codemirror_mode": {
    "name": "ipython",
    "version": 3
   },
   "file_extension": ".py",
   "mimetype": "text/x-python",
   "name": "python",
   "nbconvert_exporter": "python",
   "pygments_lexer": "ipython3",
   "version": "3.9.2"
  }
 },
 "nbformat": 4,
 "nbformat_minor": 5
}
