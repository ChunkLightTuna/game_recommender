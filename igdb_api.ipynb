{
 "cells": [
  {
   "cell_type": "code",
   "execution_count": 1,
   "id": "thrown-independence",
   "metadata": {},
   "outputs": [],
   "source": [
    "import requests\n",
    "import json\n",
    "from igdb.wrapper import IGDBWrapper\n",
    "\n",
    "id_ = 'cuwrt18z868vvq8yel7nmcovqgu0wz'\n",
    "\n",
    "# Get token\n",
    "f = open('token.txt')\n",
    "token = json.load(f)\n",
    "token = token['access_token']\n",
    "\n",
    "\n",
    "wrapper = IGDBWrapper(id_, token)"
   ]
  },
  {
   "cell_type": "code",
   "execution_count": 7,
   "id": "violent-kitchen",
   "metadata": {},
   "outputs": [],
   "source": [
    "def getGames(offset):\n",
    "# Returns 500 games from IGDB relative to offset\n",
    "\n",
    "    offset = str(offset)\n",
    "    \n",
    "    byte_array = wrapper.api_request(\n",
    "            'games',\n",
    "            'fields *; limit 500; offset ' + offset + '; sort id;'\n",
    "            )\n",
    "    \n",
    "    return json.loads(byte_array)"
   ]
  },
  {
   "cell_type": "code",
   "execution_count": 8,
   "id": "elect-central",
   "metadata": {},
   "outputs": [],
   "source": [
    "offset = 0\n",
    "limit = 150000\n",
    "data = []\n",
    "\n",
    "while offset < limit:\n",
    "    batch = getGames(offset)\n",
    "    \n",
    "    if len(batch) == 0:\n",
    "        break\n",
    "    else:\n",
    "        data += batch\n",
    "        offset += len(batch)\n",
    "    \n",
    "with open('game_data.txt', 'w') as outfile:\n",
    "    json.dump(data, outfile)"
   ]
  },
  {
   "cell_type": "code",
   "execution_count": 11,
   "id": "other-warehouse",
   "metadata": {},
   "outputs": [
    {
     "data": {
      "text/plain": [
       "(138586, 55)"
      ]
     },
     "execution_count": 11,
     "metadata": {},
     "output_type": "execute_result"
    }
   ],
   "source": [
    "import pandas as pd\n",
    "\n",
    "game_data = pd.read_json('game_data.txt')\n",
    "game_data.shape"
   ]
  },
  {
   "cell_type": "code",
   "execution_count": 14,
   "id": "compressed-cover",
   "metadata": {},
   "outputs": [
    {
     "data": {
      "text/plain": [
       "0                      Thief II: The Metal Age\n",
       "1                      Thief: The Dark Project\n",
       "2                        Thief: Deadly Shadows\n",
       "3                                        Thief\n",
       "4                                Baldur's Gate\n",
       "                          ...                 \n",
       "138581                        Final Fantasy II\n",
       "138582    Wasteland 3: The Battle of Steeltown\n",
       "138583                     As Fast As Possible\n",
       "138584                              Picross S6\n",
       "138585                             Family Feud\n",
       "Name: name, Length: 138586, dtype: object"
      ]
     },
     "execution_count": 14,
     "metadata": {},
     "output_type": "execute_result"
    }
   ],
   "source": [
    "game_data['name']"
   ]
  },
  {
   "cell_type": "code",
   "execution_count": null,
   "id": "representative-depth",
   "metadata": {},
   "outputs": [],
   "source": []
  }
 ],
 "metadata": {
  "kernelspec": {
   "display_name": "Python 3",
   "language": "python",
   "name": "python3"
  },
  "language_info": {
   "codemirror_mode": {
    "name": "ipython",
    "version": 3
   },
   "file_extension": ".py",
   "mimetype": "text/x-python",
   "name": "python",
   "nbconvert_exporter": "python",
   "pygments_lexer": "ipython3",
   "version": "3.9.2"
  }
 },
 "nbformat": 4,
 "nbformat_minor": 5
}
