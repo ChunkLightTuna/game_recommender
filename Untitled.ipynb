{
 "cells": [
  {
   "cell_type": "code",
   "execution_count": 11,
   "id": "according-lodge",
   "metadata": {},
   "outputs": [],
   "source": [
    "import pandas as pd\n",
    "\n",
    "f = open(\"top5k.txt\", encoding='utf-8')\n",
    "text = f.read()\n",
    "\n",
    "parses = text.split('\\t<https://steamdb.info/app/')[1:]\n",
    "titles = []\n",
    "\n",
    "for parse in parses:\n",
    "    titles.append(parse.split('\\t')[1].split('\\n')[0])"
   ]
  },
  {
   "cell_type": "code",
   "execution_count": 12,
   "id": "exposed-cherry",
   "metadata": {},
   "outputs": [],
   "source": [
    "import pandas as pd\n",
    "\n",
    "games_df = pd.DataFrame(titles, columns=['title'])\n",
    "games_sub = games_df.sample(10)"
   ]
  },
  {
   "cell_type": "code",
   "execution_count": 13,
   "id": "innocent-champion",
   "metadata": {},
   "outputs": [],
   "source": [
    "import wikipedia as wiki\n",
    "import request\n",
    "\n",
    "def getInfo(game):   \n",
    "    try:\n",
    "        game = wiki.search(game + ' video game')[0]\n",
    "        page = wiki.WikipediaPage(game)\n",
    "        return [page.title, page.section('Gameplay')]\n",
    "    except:\n",
    "        return [False, False]"
   ]
  },
  {
   "cell_type": "code",
   "execution_count": 14,
   "id": "dietary-median",
   "metadata": {},
   "outputs": [],
   "source": [
    "def getInfo(game):   \n",
    "    try:\n",
    "        game = wiki.search(game + ' video game')[0]\n",
    "        page = wiki.WikipediaPage(game)\n",
    "        return [page.title, page.section('Gameplay')]\n",
    "    except:\n",
    "        return [False, False]"
   ]
  },
  {
   "cell_type": "code",
   "execution_count": 15,
   "id": "pretty-entrepreneur",
   "metadata": {},
   "outputs": [
    {
     "name": "stdout",
     "output_type": "stream",
     "text": [
      "Wall time: 13.9 s\n"
     ]
    }
   ],
   "source": [
    "%%time\n",
    "games_sub['info'] = games_sub['title'].apply(lambda x: getInfo(x))"
   ]
  },
  {
   "cell_type": "code",
   "execution_count": 16,
   "id": "aggregate-metabolism",
   "metadata": {},
   "outputs": [
    {
     "data": {
      "text/html": [
       "<div>\n",
       "<style scoped>\n",
       "    .dataframe tbody tr th:only-of-type {\n",
       "        vertical-align: middle;\n",
       "    }\n",
       "\n",
       "    .dataframe tbody tr th {\n",
       "        vertical-align: top;\n",
       "    }\n",
       "\n",
       "    .dataframe thead th {\n",
       "        text-align: right;\n",
       "    }\n",
       "</style>\n",
       "<table border=\"1\" class=\"dataframe\">\n",
       "  <thead>\n",
       "    <tr style=\"text-align: right;\">\n",
       "      <th></th>\n",
       "      <th>title</th>\n",
       "      <th>info</th>\n",
       "    </tr>\n",
       "  </thead>\n",
       "  <tbody>\n",
       "    <tr>\n",
       "      <th>3489</th>\n",
       "      <td>Alba: A Wildlife Adventure</td>\n",
       "      <td>[Alba: A Wildlife Adventure, None]</td>\n",
       "    </tr>\n",
       "    <tr>\n",
       "      <th>1543</th>\n",
       "      <td>The Cat Lady</td>\n",
       "      <td>[The Cat in the Hat (video game), ]</td>\n",
       "    </tr>\n",
       "    <tr>\n",
       "      <th>4612</th>\n",
       "      <td>Cargo Commander</td>\n",
       "      <td>[Wing Commander (franchise), None]</td>\n",
       "    </tr>\n",
       "    <tr>\n",
       "      <th>2288</th>\n",
       "      <td>Beyond Good &amp; Evil</td>\n",
       "      <td>[Beyond Good &amp; Evil (video game), Beyond Good ...</td>\n",
       "    </tr>\n",
       "    <tr>\n",
       "      <th>2018</th>\n",
       "      <td>Life is Feudal: MMO</td>\n",
       "      <td>[Life Is Feudal: MMO, As an ideological succes...</td>\n",
       "    </tr>\n",
       "    <tr>\n",
       "      <th>53</th>\n",
       "      <td>Starbound</td>\n",
       "      <td>[Starbound, Many gameplay elements and feature...</td>\n",
       "    </tr>\n",
       "    <tr>\n",
       "      <th>4727</th>\n",
       "      <td>DeathSpank</td>\n",
       "      <td>[DeathSpank, DeathSpank is an action role-play...</td>\n",
       "    </tr>\n",
       "    <tr>\n",
       "      <th>4577</th>\n",
       "      <td>Abandon Ship</td>\n",
       "      <td>[Multiplayer video game, None]</td>\n",
       "    </tr>\n",
       "    <tr>\n",
       "      <th>4855</th>\n",
       "      <td>The Sad Story of Emmeline</td>\n",
       "      <td>[The Labours of Hercules, None]</td>\n",
       "    </tr>\n",
       "    <tr>\n",
       "      <th>4334</th>\n",
       "      <td>Disciples II: Gallean's Return</td>\n",
       "      <td>[Disciples II: Dark Prophecy, Disciples II is ...</td>\n",
       "    </tr>\n",
       "  </tbody>\n",
       "</table>\n",
       "</div>"
      ],
      "text/plain": [
       "                               title  \\\n",
       "3489      Alba: A Wildlife Adventure   \n",
       "1543                    The Cat Lady   \n",
       "4612                 Cargo Commander   \n",
       "2288              Beyond Good & Evil   \n",
       "2018             Life is Feudal: MMO   \n",
       "53                         Starbound   \n",
       "4727                      DeathSpank   \n",
       "4577                    Abandon Ship   \n",
       "4855       The Sad Story of Emmeline   \n",
       "4334  Disciples II: Gallean's Return   \n",
       "\n",
       "                                                   info  \n",
       "3489                 [Alba: A Wildlife Adventure, None]  \n",
       "1543                [The Cat in the Hat (video game), ]  \n",
       "4612                 [Wing Commander (franchise), None]  \n",
       "2288  [Beyond Good & Evil (video game), Beyond Good ...  \n",
       "2018  [Life Is Feudal: MMO, As an ideological succes...  \n",
       "53    [Starbound, Many gameplay elements and feature...  \n",
       "4727  [DeathSpank, DeathSpank is an action role-play...  \n",
       "4577                     [Multiplayer video game, None]  \n",
       "4855                    [The Labours of Hercules, None]  \n",
       "4334  [Disciples II: Dark Prophecy, Disciples II is ...  "
      ]
     },
     "execution_count": 16,
     "metadata": {},
     "output_type": "execute_result"
    }
   ],
   "source": [
    "games_sub"
   ]
  },
  {
   "cell_type": "code",
   "execution_count": 17,
   "id": "systematic-satin",
   "metadata": {},
   "outputs": [],
   "source": [
    "def batchApplyGetInfo(n, batch_size, df):\n",
    "    df = df\n",
    "    \n",
    "    for i in range(1, n+1):\n",
    "        batch = games_safe.loc[(i-1)*batch_size:i*batch_size]\n",
    "        batch['info'] = batch['title'].apply(lambda x: getInfo(x))\n",
    "        df = df.append(batch)\n",
    "\n",
    "        print(\"batch done!\")"
   ]
  },
  {
   "cell_type": "code",
   "execution_count": 20,
   "id": "altered-coast",
   "metadata": {},
   "outputs": [
    {
     "ename": "NameError",
     "evalue": "name 'games_safe' is not defined",
     "output_type": "error",
     "traceback": [
      "\u001b[1;31m---------------------------------------------------------------------------\u001b[0m",
      "\u001b[1;31mNameError\u001b[0m                                 Traceback (most recent call last)",
      "\u001b[1;32m<ipython-input-20-799e531d0c6b>\u001b[0m in \u001b[0;36m<module>\u001b[1;34m\u001b[0m\n\u001b[0;32m      1\u001b[0m \u001b[0mdf_fetched\u001b[0m \u001b[1;33m=\u001b[0m \u001b[0mpd\u001b[0m\u001b[1;33m.\u001b[0m\u001b[0mDataFrame\u001b[0m\u001b[1;33m(\u001b[0m\u001b[0mcolumns\u001b[0m \u001b[1;33m=\u001b[0m \u001b[1;33m[\u001b[0m\u001b[1;34m'title'\u001b[0m\u001b[1;33m,\u001b[0m \u001b[1;34m'info'\u001b[0m\u001b[1;33m]\u001b[0m\u001b[1;33m)\u001b[0m\u001b[1;33m\u001b[0m\u001b[1;33m\u001b[0m\u001b[0m\n\u001b[0;32m      2\u001b[0m \u001b[1;33m\u001b[0m\u001b[0m\n\u001b[1;32m----> 3\u001b[1;33m \u001b[0mbatchApplyGetInfo\u001b[0m\u001b[1;33m(\u001b[0m\u001b[1;36m10\u001b[0m\u001b[1;33m,\u001b[0m\u001b[1;36m10\u001b[0m\u001b[1;33m,\u001b[0m \u001b[0mdf_fetched\u001b[0m\u001b[1;33m)\u001b[0m\u001b[1;33m\u001b[0m\u001b[1;33m\u001b[0m\u001b[0m\n\u001b[0m",
      "\u001b[1;32m<ipython-input-17-9bcfa6192eea>\u001b[0m in \u001b[0;36mbatchApplyGetInfo\u001b[1;34m(n, batch_size, df)\u001b[0m\n\u001b[0;32m      3\u001b[0m \u001b[1;33m\u001b[0m\u001b[0m\n\u001b[0;32m      4\u001b[0m     \u001b[1;32mfor\u001b[0m \u001b[0mi\u001b[0m \u001b[1;32min\u001b[0m \u001b[0mrange\u001b[0m\u001b[1;33m(\u001b[0m\u001b[1;36m1\u001b[0m\u001b[1;33m,\u001b[0m \u001b[0mn\u001b[0m\u001b[1;33m+\u001b[0m\u001b[1;36m1\u001b[0m\u001b[1;33m)\u001b[0m\u001b[1;33m:\u001b[0m\u001b[1;33m\u001b[0m\u001b[1;33m\u001b[0m\u001b[0m\n\u001b[1;32m----> 5\u001b[1;33m         \u001b[0mbatch\u001b[0m \u001b[1;33m=\u001b[0m \u001b[0mgames_safe\u001b[0m\u001b[1;33m.\u001b[0m\u001b[0mloc\u001b[0m\u001b[1;33m[\u001b[0m\u001b[1;33m(\u001b[0m\u001b[0mi\u001b[0m\u001b[1;33m-\u001b[0m\u001b[1;36m1\u001b[0m\u001b[1;33m)\u001b[0m\u001b[1;33m*\u001b[0m\u001b[0mbatch_size\u001b[0m\u001b[1;33m:\u001b[0m\u001b[0mi\u001b[0m\u001b[1;33m*\u001b[0m\u001b[0mbatch_size\u001b[0m\u001b[1;33m]\u001b[0m\u001b[1;33m\u001b[0m\u001b[1;33m\u001b[0m\u001b[0m\n\u001b[0m\u001b[0;32m      6\u001b[0m         \u001b[0mbatch\u001b[0m\u001b[1;33m[\u001b[0m\u001b[1;34m'info'\u001b[0m\u001b[1;33m]\u001b[0m \u001b[1;33m=\u001b[0m \u001b[0mbatch\u001b[0m\u001b[1;33m[\u001b[0m\u001b[1;34m'title'\u001b[0m\u001b[1;33m]\u001b[0m\u001b[1;33m.\u001b[0m\u001b[0mapply\u001b[0m\u001b[1;33m(\u001b[0m\u001b[1;32mlambda\u001b[0m \u001b[0mx\u001b[0m\u001b[1;33m:\u001b[0m \u001b[0mgetInfo\u001b[0m\u001b[1;33m(\u001b[0m\u001b[0mx\u001b[0m\u001b[1;33m)\u001b[0m\u001b[1;33m)\u001b[0m\u001b[1;33m\u001b[0m\u001b[1;33m\u001b[0m\u001b[0m\n\u001b[0;32m      7\u001b[0m         \u001b[0mdf\u001b[0m \u001b[1;33m=\u001b[0m \u001b[0mdf\u001b[0m\u001b[1;33m.\u001b[0m\u001b[0mappend\u001b[0m\u001b[1;33m(\u001b[0m\u001b[0mbatch\u001b[0m\u001b[1;33m)\u001b[0m\u001b[1;33m\u001b[0m\u001b[1;33m\u001b[0m\u001b[0m\n",
      "\u001b[1;31mNameError\u001b[0m: name 'games_safe' is not defined"
     ]
    }
   ],
   "source": [
    "df_fetched = pd.DataFrame(columns = ['title', 'info'])\n",
    "\n",
    "batchApplyGetInfo(10,10, df_fetched)"
   ]
  },
  {
   "cell_type": "code",
   "execution_count": 1,
   "id": "medium-capability",
   "metadata": {},
   "outputs": [
    {
     "ename": "NameError",
     "evalue": "name 'df_fetched' is not defined",
     "output_type": "error",
     "traceback": [
      "\u001b[1;31m---------------------------------------------------------------------------\u001b[0m",
      "\u001b[1;31mNameError\u001b[0m                                 Traceback (most recent call last)",
      "\u001b[1;32m<ipython-input-1-76afe5c0f9d7>\u001b[0m in \u001b[0;36m<module>\u001b[1;34m\u001b[0m\n\u001b[1;32m----> 1\u001b[1;33m \u001b[0mdf_fetched\u001b[0m\u001b[1;33m\u001b[0m\u001b[1;33m\u001b[0m\u001b[0m\n\u001b[0m",
      "\u001b[1;31mNameError\u001b[0m: name 'df_fetched' is not defined"
     ]
    }
   ],
   "source": [
    "df_fetched"
   ]
  },
  {
   "cell_type": "code",
   "execution_count": 4,
   "id": "occupied-planet",
   "metadata": {},
   "outputs": [],
   "source": [
    "import pandas as pd\n",
    "\n",
    "test = pd.read_pickle('games_fetched.pkl')"
   ]
  },
  {
   "cell_type": "code",
   "execution_count": 6,
   "id": "worldwide-joseph",
   "metadata": {},
   "outputs": [
    {
     "data": {
      "text/plain": [
       "(0, 2)"
      ]
     },
     "execution_count": 6,
     "metadata": {},
     "output_type": "execute_result"
    }
   ],
   "source": [
    "test.shape"
   ]
  },
  {
   "cell_type": "code",
   "execution_count": null,
   "id": "gentle-disco",
   "metadata": {},
   "outputs": [],
   "source": []
  }
 ],
 "metadata": {
  "kernelspec": {
   "display_name": "Python 3",
   "language": "python",
   "name": "python3"
  },
  "language_info": {
   "codemirror_mode": {
    "name": "ipython",
    "version": 3
   },
   "file_extension": ".py",
   "mimetype": "text/x-python",
   "name": "python",
   "nbconvert_exporter": "python",
   "pygments_lexer": "ipython3",
   "version": "3.9.2"
  }
 },
 "nbformat": 4,
 "nbformat_minor": 5
}
